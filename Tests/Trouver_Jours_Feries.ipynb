{
 "cells": [
  {
   "cell_type": "code",
   "execution_count": 2,
   "metadata": {},
   "outputs": [
    {
     "name": "stdout",
     "output_type": "stream",
     "text": [
      "Collecting holidays\n",
      "  Downloading holidays-0.58-py3-none-any.whl (1.1 MB)\n",
      "\u001b[2K     \u001b[90m━━━━━━━━━━━━━━━━━━━━━━━━━━━━━━━━━━━━━━━━\u001b[0m \u001b[32m1.1/1.1 MB\u001b[0m \u001b[31m8.7 MB/s\u001b[0m eta \u001b[36m0:00:00\u001b[0ma \u001b[36m0:00:01\u001b[0m\n",
      "\u001b[?25hRequirement already satisfied: python-dateutil in /Users/noedebrois/opt/anaconda3/envs/VEnvTestPython_3_8_13/lib/python3.8/site-packages (from holidays) (2.8.2)\n",
      "Requirement already satisfied: six>=1.5 in /Users/noedebrois/opt/anaconda3/envs/VEnvTestPython_3_8_13/lib/python3.8/site-packages (from python-dateutil->holidays) (1.16.0)\n",
      "Installing collected packages: holidays\n",
      "Successfully installed holidays-0.58\n"
     ]
    }
   ],
   "source": [
    "!pip install holidays"
   ]
  },
  {
   "cell_type": "code",
   "execution_count": 12,
   "metadata": {},
   "outputs": [
    {
     "name": "stdout",
     "output_type": "stream",
     "text": [
      "   France (Date) France (Holiday Name)  USA (Date)  \\\n",
      "0     2025-01-01          Jour de l'an  2025-01-01   \n",
      "1     2025-04-21       Lundi de Pâques  2025-01-20   \n",
      "2     2025-05-01       Fête du Travail  2025-02-17   \n",
      "3     2025-05-08   Fête de la Victoire  2025-05-26   \n",
      "4     2025-05-29             Ascension  2025-06-19   \n",
      "5     2025-06-09    Lundi de Pentecôte  2025-07-04   \n",
      "6     2025-07-14        Fête nationale  2025-09-01   \n",
      "7     2025-08-15            Assomption  2025-10-13   \n",
      "8     2025-11-01             Toussaint  2025-11-11   \n",
      "9     2025-11-11             Armistice  2025-11-27   \n",
      "10    2025-12-25                  Noël  2025-12-25   \n",
      "11           NaN                   NaN         NaN   \n",
      "\n",
      "                      USA (Holiday Name) Luxembourg (Date)  \\\n",
      "0                         New Year's Day        2025-01-01   \n",
      "1             Martin Luther King Jr. Day        2025-04-21   \n",
      "2                  Washington's Birthday        2025-05-01   \n",
      "3                           Memorial Day        2025-05-09   \n",
      "4   Juneteenth National Independence Day        2025-05-29   \n",
      "5                       Independence Day        2025-06-09   \n",
      "6                              Labor Day        2025-06-23   \n",
      "7                           Columbus Day        2025-08-15   \n",
      "8                           Veterans Day        2025-11-01   \n",
      "9                           Thanksgiving        2025-12-25   \n",
      "10                         Christmas Day        2025-12-26   \n",
      "11                                   NaN               NaN   \n",
      "\n",
      "   Luxembourg (Holiday Name) Italy (Date)      Italy (Holiday Name)  \\\n",
      "0              Neijoerschdag   2025-01-01                 Capodanno   \n",
      "1            Ouschterméindeg   2025-01-06      Epifania del Signore   \n",
      "2       Dag vun der Aarbecht   2025-04-20    Pasqua di Resurrezione   \n",
      "3                  Europadag   2025-04-21        Lunedì dell'Angelo   \n",
      "4        Christi Himmelfaart   2025-04-25   Festa della Liberazione   \n",
      "5            Péngschtméindeg   2025-05-01      Festa dei Lavoratori   \n",
      "6           Nationalfeierdag   2025-06-02    Festa della Repubblica   \n",
      "7            Léiffrawëschdag   2025-08-15  Assunzione della Vergine   \n",
      "8               Allerhellgen   2025-11-01             Tutti i Santi   \n",
      "9                Chrëschtdag   2025-12-08     Immacolata Concezione   \n",
      "10                Stiefesdag   2025-12-25                    Natale   \n",
      "11                       NaN   2025-12-26             Santo Stefano   \n",
      "\n",
      "     UK (Date)    UK (Holiday Name)  \n",
      "0   2025-01-01       New Year's Day  \n",
      "1   2025-04-18          Good Friday  \n",
      "2   2025-05-05              May Day  \n",
      "3   2025-05-26  Spring Bank Holiday  \n",
      "4   2025-12-25        Christmas Day  \n",
      "5   2025-12-26           Boxing Day  \n",
      "6          NaN                  NaN  \n",
      "7          NaN                  NaN  \n",
      "8          NaN                  NaN  \n",
      "9          NaN                  NaN  \n",
      "10         NaN                  NaN  \n",
      "11         NaN                  NaN  \n"
     ]
    }
   ],
   "source": [
    "import holidays\n",
    "import pandas as pd\n",
    "from datetime import datetime\n",
    "\n",
    "# Fonction pour lister les jours fériés avec le nom du jour férié pour chaque bourse\n",
    "def get_exchange_holidays_with_holiday_name(country_holidays):\n",
    "    return [(holiday_date, holiday_name) for holiday_date, holiday_name in sorted(country_holidays.items())]\n",
    "\n",
    "# Année à venir\n",
    "year = datetime.now().year + 1\n",
    "\n",
    "# Jours fériés pour différents pays\n",
    "fr_holidays = holidays.France(years=year)\n",
    "us_holidays = holidays.UnitedStates(years=year)\n",
    "lu_holidays = holidays.Luxembourg(years=year)\n",
    "it_holidays = holidays.Italy(years=year)\n",
    "uk_holidays = holidays.UnitedKingdom(years=year)\n",
    "\n",
    "# Récupération des jours fériés avec nom du jour férié pour chaque pays\n",
    "fr_closed_days = get_exchange_holidays_with_holiday_name(fr_holidays)\n",
    "us_closed_days = get_exchange_holidays_with_holiday_name(us_holidays)\n",
    "lu_closed_days = get_exchange_holidays_with_holiday_name(lu_holidays)\n",
    "it_closed_days = get_exchange_holidays_with_holiday_name(it_holidays)\n",
    "uk_closed_days = get_exchange_holidays_with_holiday_name(uk_holidays)\n",
    "\n",
    "# Création du DataFrame pour afficher les résultats\n",
    "df_holidays = pd.DataFrame({\n",
    "    \"France (Date)\": pd.Series([day[0] for day in fr_closed_days]),\n",
    "    \"France (Holiday Name)\": pd.Series([day[1] for day in fr_closed_days]),\n",
    "    \"USA (Date)\": pd.Series([day[0] for day in us_closed_days]),\n",
    "    \"USA (Holiday Name)\": pd.Series([day[1] for day in us_closed_days]),\n",
    "    \"Luxembourg (Date)\": pd.Series([day[0] for day in lu_closed_days]),\n",
    "    \"Luxembourg (Holiday Name)\": pd.Series([day[1] for day in lu_closed_days]),\n",
    "    \"Italy (Date)\": pd.Series([day[0] for day in it_closed_days]),\n",
    "    \"Italy (Holiday Name)\": pd.Series([day[1] for day in it_closed_days]),\n",
    "    \"UK (Date)\": pd.Series([day[0] for day in uk_closed_days]),\n",
    "    \"UK (Holiday Name)\": pd.Series([day[1] for day in uk_closed_days]),\n",
    "})\n",
    "\n",
    "print(df_holidays)"
   ]
  },
  {
   "cell_type": "code",
   "execution_count": 15,
   "metadata": {},
   "outputs": [],
   "source": [
    "df_holidays.to_excel('/Users/noedebrois/Desktop/Desktop - Noé’s MacBook Air/holidays.xlsx', index=False)"
   ]
  }
 ],
 "metadata": {
  "kernelspec": {
   "display_name": "VEnvTestPython_3_8_13",
   "language": "python",
   "name": "python3"
  },
  "language_info": {
   "codemirror_mode": {
    "name": "ipython",
    "version": 3
   },
   "file_extension": ".py",
   "mimetype": "text/x-python",
   "name": "python",
   "nbconvert_exporter": "python",
   "pygments_lexer": "ipython3",
   "version": "3.8.13"
  }
 },
 "nbformat": 4,
 "nbformat_minor": 2
}
